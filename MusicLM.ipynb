{
  "nbformat": 4,
  "nbformat_minor": 0,
  "metadata": {
    "colab": {
      "provenance": [],
      "gpuType": "T4"
    },
    "kernelspec": {
      "name": "python3",
      "display_name": "Python 3"
    },
    "language_info": {
      "name": "python"
    },
    "accelerator": "GPU"
  },
  "cells": [
    {
      "cell_type": "code",
      "execution_count": null,
      "metadata": {
        "colab": {
          "base_uri": "https://localhost:8080/"
        },
        "id": "z_HSPaF2u1fm",
        "outputId": "b542856b-b064-4c24-f932-9e48e35371d3"
      },
      "outputs": [
        {
          "output_type": "stream",
          "name": "stdout",
          "text": [
            "Cloning into 'open-musiclm'...\n",
            "remote: Enumerating objects: 1442, done.\u001b[K\n",
            "remote: Counting objects: 100% (358/358), done.\u001b[K\n",
            "remote: Compressing objects: 100% (68/68), done.\u001b[K\n",
            "remote: Total 1442 (delta 326), reused 290 (delta 290), pack-reused 1084\u001b[K\n",
            "Receiving objects: 100% (1442/1442), 1.82 MiB | 4.64 MiB/s, done.\n",
            "Resolving deltas: 100% (1024/1024), done.\n"
          ]
        }
      ],
      "source": [
        "!git clone https://github.com/zhvng/open-musiclm.git\n",
        "\n",
        "# !pip install torch\n",
        "!pip install torchvision\n",
        "!pip install torchaudio\n",
        "!pip install einops\n",
        "!pip install vector-quantize-pytorch\n",
        "!pip install librosa\n",
        "!pip install torchlibrosa\n",
        "!pip install ftfy\n",
        "!pip install tqdm\n",
        "!pip install encodec\n",
        "!pip install gdown\n",
        "!pip install accelerate\n",
        "!pip install beartype\n",
        "!pip install joblib\n",
        "!pip install h5py\n",
        "!pip install scikit-learn\n",
        "!pip install wget"
      ]
    },
    {
      "cell_type": "code",
      "source": [
        "from google.colab import drive\n",
        "drive.mount('/content/gdrive')\n",
        "\n",
        "\n",
        "!unzip /content/gdrive/MyDrive/musicLM-chepoints/drive-download-20240511T174425Z-001.zip\n",
        "!unzip /content/gdrive/MyDrive/musicLM-chepoints/drive-download-20240511T174425Z-002.zip\n",
        "!unzip /content/gdrive/MyDrive/musicLM-chepoints/drive-download-20240511T174425Z-003.zip\n",
        "# !pip install torch==2.0.0+cu117\n",
        "#torchvision==0.15.1+cu117 torchaudio==2.0.1+cu117 einops>=0.4 vector-quantize-pytorch>=0.10.15 librosa==0.10.0 torchlibrosa==0.1.0 ftfy tqdm tqdm encodec==0.1.1 gdown accelerate>=0.17.0 beartype joblib h5py scikit-learn wget\n",
        "\n"
      ],
      "metadata": {
        "colab": {
          "base_uri": "https://localhost:8080/"
        },
        "id": "EUNAiQ3f1JDq",
        "outputId": "b24842d5-0658-46b3-f6e9-8832ee64bd15"
      },
      "execution_count": null,
      "outputs": [
        {
          "output_type": "stream",
          "name": "stdout",
          "text": [
            "Mounted at /content/gdrive\n",
            "Archive:  /content/gdrive/MyDrive/musicLM-chepoints/drive-download-20240511T174425Z-001.zip\n",
            "  inflating: semantic.transformer.14000.pt  \n",
            "  inflating: musiclm_large_small_context.json  \n",
            "Archive:  /content/gdrive/MyDrive/musicLM-chepoints/drive-download-20240511T174425Z-002.zip\n",
            "  inflating: coarse.transformer.18000.pt  \n",
            "Archive:  /content/gdrive/MyDrive/musicLM-chepoints/drive-download-20240511T174425Z-003.zip\n",
            "  inflating: fine.transformer.24000.pt  \n",
            "  inflating: kmeans_10s_no_fusion.joblib  \n",
            "  inflating: clap.rvq.950_no_fusion.pt  \n"
          ]
        }
      ]
    },
    {
      "cell_type": "code",
      "source": [
        "import os\n",
        "os.chdir('/content/open-musiclm/scripts')"
      ],
      "metadata": {
        "id": "4LT8PDOEwJjq"
      },
      "execution_count": null,
      "outputs": []
    },
    {
      "cell_type": "code",
      "source": [
        "!python infer_top_match.py \"jazz style mixing rock style \" --num_samples 1 --num_top_matches 2 --duration 4 --semantic_path /content/semantic.transformer.14000.pt --coarse_path /content/coarse.transformer.18000.pt --fine_path /content/fine.transformer.24000.pt --rvq_path /content/clap.rvq.950_no_fusion.pt --kmeans_path /content/kmeans_10s_no_fusion.joblib --model_config /content/musiclm_large_small_context.json"
      ],
      "metadata": {
        "id": "dA2rBygJS1Oi",
        "colab": {
          "base_uri": "https://localhost:8080/"
        },
        "outputId": "b63526f9-573a-4735-c926-027180df67b7"
      },
      "execution_count": null,
      "outputs": [
        {
          "output_type": "stream",
          "name": "stdout",
          "text": [
            "config.json: 100% 481/481 [00:00<00:00, 2.05MB/s]\n",
            "model.safetensors: 100% 499M/499M [00:01<00:00, 249MB/s]\n",
            "Some weights of RobertaModel were not initialized from the model checkpoint at roberta-base and are newly initialized: ['roberta.pooler.dense.bias', 'roberta.pooler.dense.weight']\n",
            "You should probably TRAIN this model on a down-stream task to be able to use it for predictions and inference.\n",
            "tokenizer_config.json: 100% 25.0/25.0 [00:00<00:00, 104kB/s]\n",
            "vocab.json: 100% 899k/899k [00:00<00:00, 3.91MB/s]\n",
            "merges.txt: 100% 456k/456k [00:00<00:00, 7.77MB/s]\n",
            "tokenizer.json: 100% 1.36M/1.36M [00:00<00:00, 5.72MB/s]\n",
            "/usr/local/lib/python3.10/dist-packages/torchaudio/transforms/_transforms.py:580: UserWarning: Argument 'onesided' has been deprecated and has no influence on the behavior of this module.\n",
            "  warnings.warn(\n",
            "config.json: 100% 1.67k/1.67k [00:00<00:00, 8.44MB/s]\n",
            "You are using a model of type mert_model to instantiate a model of type hubert. This is not supported for all configurations of models and can yield errors.\n",
            "pytorch_model.bin: 100% 378M/378M [00:03<00:00, 125MB/s]\n",
            "Some weights of HubertModel were not initialized from the model checkpoint at m-a-p/MERT-v0 and are newly initialized: ['encoder.pos_conv_embed.conv.parametrizations.weight.original0', 'encoder.pos_conv_embed.conv.parametrizations.weight.original1']\n",
            "You should probably TRAIN this model on a down-stream task to be able to use it for predictions and inference.\n",
            "/usr/local/lib/python3.10/dist-packages/sklearn/base.py:318: UserWarning: Trying to unpickle estimator MiniBatchKMeans from version 1.2.1 when using version 1.2.2. This might lead to breaking code or invalid results. Use at your own risk. For more info please refer to:\n",
            "https://scikit-learn.org/stable/model_persistence.html#security-maintainability-limitations\n",
            "  warnings.warn(\n",
            "/usr/local/lib/python3.10/dist-packages/torch/nn/utils/weight_norm.py:28: UserWarning: torch.nn.utils.weight_norm is deprecated in favor of torch.nn.utils.parametrizations.weight_norm.\n",
            "  warnings.warn(\"torch.nn.utils.weight_norm is deprecated in favor of torch.nn.utils.parametrizations.weight_norm.\")\n",
            "Downloading: \"https://dl.fbaipublicfiles.com/encodec/v0/encodec_24khz-d7cc33bc.th\" to /root/.cache/torch/hub/checkpoints/encodec_24khz-d7cc33bc.th\n",
            "100% 88.9M/88.9M [00:00<00:00, 115MB/s]\n",
            "prompt: ['jazz style mixing rock style']\n",
            "generating predicted tokens: 100% 500/500 [00:36<00:00, 13.53it/s]\n",
            "generating predicted tokens: 100% 250/250 [00:27<00:00,  9.06it/s]\n",
            "generating predicted tokens: 100% 250/250 [00:29<00:00,  8.42it/s]\n",
            "generating predicted tokens: 100% 300/300 [03:34<00:00,  1.40it/s]\n",
            "generating predicted tokens: 100% 150/150 [02:33<00:00,  1.03s/it]\n",
            "generating predicted tokens: 100% 150/150 [02:34<00:00,  1.03s/it]\n",
            "generating predicted tokens: 100% 150/150 [02:34<00:00,  1.03s/it]\n",
            "generating predicted tokens: 100% 150/150 [02:34<00:00,  1.03s/it]\n",
            "generating predicted tokens: 100% 150/150 [02:34<00:00,  1.03s/it]\n",
            "generating predicted tokens: 100% 150/150 [02:33<00:00,  1.03s/it]\n",
            "generating predicted tokens: 100% 150/150 [02:34<00:00,  1.03s/it]\n",
            "generating predicted tokens: 100% 150/150 [02:34<00:00,  1.03s/it]\n",
            "generating predicted tokens: 100% 150/150 [03:59<00:00,  1.60s/it]\n",
            "generating predicted tokens: 100% 150/150 [03:59<00:00,  1.59s/it]\n",
            "generating predicted tokens: 100% 150/150 [03:59<00:00,  1.60s/it]\n",
            "generating predicted tokens: 100% 150/150 [03:59<00:00,  1.60s/it]\n",
            "generating predicted tokens: 100% 150/150 [03:59<00:00,  1.59s/it]\n",
            "generating predicted tokens: 100% 150/150 [03:59<00:00,  1.59s/it]\n",
            "generating predicted tokens: 100% 150/150 [03:59<00:00,  1.59s/it]\n",
            "generating predicted tokens: 100% 150/150 [03:59<00:00,  1.60s/it]\n",
            "generating predicted tokens: 100% 150/150 [03:59<00:00,  1.60s/it]\n",
            "generating predicted tokens: 100% 150/150 [03:59<00:00,  1.60s/it]\n",
            "prompt: jazz style mixing rock style\n",
            "topk similarities: tensor([0.3159])\n"
          ]
        }
      ]
    }
  ]
}